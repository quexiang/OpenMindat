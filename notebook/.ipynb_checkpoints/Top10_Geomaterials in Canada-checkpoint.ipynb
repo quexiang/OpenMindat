{
 "cells": [
  {
   "cell_type": "code",
   "execution_count": null,
   "id": "6b2979da-7029-465b-bfb5-9c38c4ece7d6",
   "metadata": {},
   "outputs": [],
   "source": [
    "#install.packages(\"dplyr\")"
   ]
  },
  {
   "cell_type": "code",
   "execution_count": null,
   "id": "566d8869-23c1-4331-bb84-6b335f19b132",
   "metadata": {},
   "outputs": [],
   "source": [
    "library(\"OpenMindat\")"
   ]
  },
  {
   "cell_type": "code",
   "execution_count": null,
   "id": "5f04d630-65f4-4426-b55c-e3745a9f9ed8",
   "metadata": {},
   "outputs": [],
   "source": [
    "library(dplyr)\n",
    "library(ggplot2)"
   ]
  },
  {
   "cell_type": "code",
   "execution_count": null,
   "id": "ee9ec1d1-a405-483b-8474-49a62ed51b41",
   "metadata": {},
   "outputs": [],
   "source": [
    "mindat_connection(\"321e35e57066ccb129a9d9af7ffe1958\",base_url = \"147.135.28.115\")"
   ]
  },
  {
   "cell_type": "code",
   "execution_count": null,
   "id": "3c715f30-84e0-45ae-b400-7b6ebdb80df6",
   "metadata": {},
   "outputs": [],
   "source": [
    "gl<- localities_list_country(\"Canada\",expand = \"~all\")"
   ]
  },
  {
   "cell_type": "code",
   "execution_count": null,
   "id": "4953f14a-f9b2-4f15-86e0-9d14d3d2b6f5",
   "metadata": {},
   "outputs": [],
   "source": [
    "kv_set<-data.frame(mineral_id =numeric(),cnt = numeric())\n",
    "for (cur_loc in gl$locentries){\n",
    "  cur_loc_list<- as.numeric(unlist(cur_loc))\n",
    "  for (min_id in cur_loc_list) {\n",
    "    if (min_id %in% kv_set$mineral_id){\n",
    "      kv_set$cnt[kv_set$mineral_id == min_id]<- kv_set$cnt[kv_set$mineral_id == min_id] + 1\n",
    "    }\n",
    "    else{\n",
    "      df_append<- data.frame(mineral_id = min_id, cnt=1)\n",
    "      kv_set <- rbind(kv_set,df_append)\n",
    "    }\n",
    "  }\n",
    "}"
   ]
  },
  {
   "cell_type": "code",
   "execution_count": null,
   "id": "193e0dc6-55d8-466d-a205-2063473b23fa",
   "metadata": {},
   "outputs": [],
   "source": [
    "sorted_kv_desc<- arrange(kv_set,desc(cnt))\n",
    "df_top10<- head(sorted_kv_desc,10)"
   ]
  },
  {
   "cell_type": "code",
   "execution_count": null,
   "id": "ba00a48a-53d0-4726-97d1-4a1251586eb9",
   "metadata": {},
   "outputs": [],
   "source": [
    "df_m2<- mindat_geomaterial_list(ids = df_top10$mineral_id,fileds = \"id,name\")\n",
    "sorted_names <- c()\n",
    "for (s_id in df_top10$mineral_id) {\n",
    "  sorted_names <- append(sorted_names,df_m2$name[df_m2$id == s_id])\n",
    "}\n",
    "df_top10<- cbind(df_top10,sorted_names)"
   ]
  },
  {
   "cell_type": "code",
   "execution_count": null,
   "id": "6d232d1d-1867-42f4-a2e1-98f80a10e997",
   "metadata": {},
   "outputs": [],
   "source": [
    "p <- ggplot(df_top10,aes(reorder(sorted_names,-cnt),cnt))\n",
    "p+geom_bar(stat = 'identity')+ggtitle(\"Top 10 geomaterials in Canada \\n\")+ xlab(\"Geomaterials\")+ ylab(\"count\")+ theme(plot.title = element_text(hjust = 0.5))"
   ]
  },
  {
   "cell_type": "code",
   "execution_count": null,
   "id": "a5f35e8d-a697-40ec-ba5a-a26bc44d9f3a",
   "metadata": {},
   "outputs": [],
   "source": []
  },
  {
   "cell_type": "code",
   "execution_count": null,
   "id": "11e955e6-ed91-4830-8100-4fdd68369a95",
   "metadata": {},
   "outputs": [],
   "source": []
  }
 ],
 "metadata": {
  "kernelspec": {
   "display_name": "R",
   "language": "R",
   "name": "ir"
  },
  "language_info": {
   "name": ""
  }
 },
 "nbformat": 4,
 "nbformat_minor": 5
}
