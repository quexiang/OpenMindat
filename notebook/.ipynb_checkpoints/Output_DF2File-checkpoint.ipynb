{
 "cells": [
  {
   "cell_type": "code",
   "execution_count": 1,
   "id": "3f639771-c8c2-446e-9633-84e60688af09",
   "metadata": {},
   "outputs": [],
   "source": [
    "library(httr)\n",
    "library(jsonlite)\n",
    "library (OpenMindat)"
   ]
  },
  {
   "cell_type": "code",
   "execution_count": 2,
   "id": "081be9bf-0482-4fc3-954f-7e237979e55c",
   "metadata": {},
   "outputs": [],
   "source": [
    "#Please replace the following string “9ce67655d74bcd981e937be80dcea9cb” by your own Mindat token.\n",
    "mindat_connection(\"9ce67655d74bcd981e937be80dcea9cb\",page_size = 1500)"
   ]
  },
  {
   "cell_type": "code",
   "execution_count": 3,
   "id": "2c981d23-94d0-41ae-a2af-fc74da5dff2b",
   "metadata": {},
   "outputs": [
    {
     "name": "stdout",
     "output_type": "stream",
     "text": [
      "List of 4\n",
      " $ count   : int 3\n",
      " $ next    : NULL\n",
      " $ previous: NULL\n",
      " $ results :List of 3\n",
      "  ..$ :List of 4\n",
      "  .. ..$ id         : int 1282\n",
      "  .. ..$ longid     : chr \"1:1:1282:5\"\n",
      "  .. ..$ name       : chr \"Diamond\"\n",
      "  .. ..$ ima_formula: chr \"C\"\n",
      "  ..$ :List of 4\n",
      "  .. ..$ id         : int 43792\n",
      "  .. ..$ longid     : chr \"1:1:43792:7\"\n",
      "  .. ..$ name       : chr \"Qingsongite\"\n",
      "  .. ..$ ima_formula: chr \"BN\"\n",
      "  ..$ :List of 4\n",
      "  .. ..$ id         : int 52913\n",
      "  .. ..$ longid     : chr \"1:1:52913:0\"\n",
      "  .. ..$ name       : chr \"Uakitite\"\n",
      "  .. ..$ ima_formula: chr \"VN\"\n"
     ]
    }
   ],
   "source": [
    "df<-geomaterials_hardness_gt(9.8,fields = \"id,longid,name,ima_formula\")"
   ]
  },
  {
   "cell_type": "code",
   "execution_count": 4,
   "id": "2ea76a9f-9155-4616-9b03-8e3d4bd54698",
   "metadata": {},
   "outputs": [
    {
     "data": {
      "text/html": [
       "<table class=\"dataframe\">\n",
       "<caption>A data.frame: 3 × 4</caption>\n",
       "<thead>\n",
       "\t<tr><th></th><th scope=col>id</th><th scope=col>longid</th><th scope=col>name</th><th scope=col>ima_formula</th></tr>\n",
       "\t<tr><th></th><th scope=col>&lt;int&gt;</th><th scope=col>&lt;chr&gt;</th><th scope=col>&lt;chr&gt;</th><th scope=col>&lt;chr&gt;</th></tr>\n",
       "</thead>\n",
       "<tbody>\n",
       "\t<tr><th scope=row>1</th><td> 1282</td><td>1:1:1282:5 </td><td>Diamond    </td><td>C </td></tr>\n",
       "\t<tr><th scope=row>2</th><td>43792</td><td>1:1:43792:7</td><td>Qingsongite</td><td>BN</td></tr>\n",
       "\t<tr><th scope=row>3</th><td>52913</td><td>1:1:52913:0</td><td>Uakitite   </td><td>VN</td></tr>\n",
       "</tbody>\n",
       "</table>\n"
      ],
      "text/latex": [
       "A data.frame: 3 × 4\n",
       "\\begin{tabular}{r|llll}\n",
       "  & id & longid & name & ima\\_formula\\\\\n",
       "  & <int> & <chr> & <chr> & <chr>\\\\\n",
       "\\hline\n",
       "\t1 &  1282 & 1:1:1282:5  & Diamond     & C \\\\\n",
       "\t2 & 43792 & 1:1:43792:7 & Qingsongite & BN\\\\\n",
       "\t3 & 52913 & 1:1:52913:0 & Uakitite    & VN\\\\\n",
       "\\end{tabular}\n"
      ],
      "text/markdown": [
       "\n",
       "A data.frame: 3 × 4\n",
       "\n",
       "| <!--/--> | id &lt;int&gt; | longid &lt;chr&gt; | name &lt;chr&gt; | ima_formula &lt;chr&gt; |\n",
       "|---|---|---|---|---|\n",
       "| 1 |  1282 | 1:1:1282:5  | Diamond     | C  |\n",
       "| 2 | 43792 | 1:1:43792:7 | Qingsongite | BN |\n",
       "| 3 | 52913 | 1:1:52913:0 | Uakitite    | VN |\n",
       "\n"
      ],
      "text/plain": [
       "  id    longid      name        ima_formula\n",
       "1  1282 1:1:1282:5  Diamond     C          \n",
       "2 43792 1:1:43792:7 Qingsongite BN         \n",
       "3 52913 1:1:52913:0 Uakitite    VN         "
      ]
     },
     "metadata": {},
     "output_type": "display_data"
    }
   ],
   "source": [
    "df"
   ]
  },
  {
   "cell_type": "code",
   "execution_count": 5,
   "id": "d054462f-fa28-4304-afec-7aab615ece0d",
   "metadata": {},
   "outputs": [],
   "source": [
    "library(readxl)"
   ]
  },
  {
   "cell_type": "code",
   "execution_count": 6,
   "id": "f1f494c5-eebe-4b21-80cc-e14913514dc4",
   "metadata": {},
   "outputs": [],
   "source": [
    "out<- ConvertDF2JsonLD(df)"
   ]
  },
  {
   "cell_type": "code",
   "execution_count": 7,
   "id": "f1150c3c-26a0-41d4-ab45-fd091b9e82bf",
   "metadata": {},
   "outputs": [
    {
     "data": {
      "text/html": [
       "'{ \\n \"@context\":{ \"mindat\":\"https://mindat.org/\" ,\\n \"schema\":\"https://schema.org/\" ,\\n \"gsog\":\"https://w3id.org/gso/geology/\" },\"@graph\":[{ \\n \"@type\":\"mindat:Geomaterials \" , \"@type\":\"schema:Dataset \" , \"@type\":\"gsog:Mineral_Material \" ,\\n\" mindat:id \":\" 1282 \" ,\\n\" identifier \":\" 1:1:1282:5 \" ,\\n\" mindat:name \":\" Diamond \" ,\\n\" mindat:ima_formula \":\" C \" }\\n ,{ \\n \"@type\":\"mindat:Geomaterials \" , \"@type\":\"schema:Dataset \" , \"@type\":\"gsog:Mineral_Material \" ,\\n\" mindat:id \":\" 43792 \" ,\\n\" identifier \":\" 1:1:43792:7 \" ,\\n\" mindat:name \":\" Qingsongite \" ,\\n\" mindat:ima_formula \":\" BN \" }\\n ,{ \\n \"@type\":\"mindat:Geomaterials \" , \"@type\":\"schema:Dataset \" , \"@type\":\"gsog:Mineral_Material \" ,\\n\" mindat:id \":\" 52913 \" ,\\n\" identifier \":\" 1:1:52913:0 \" ,\\n\" mindat:name \":\" Uakitite \" ,\\n\" mindat:ima_formula \":\" VN \" }\\n ] }'"
      ],
      "text/latex": [
       "'\\{ \\textbackslash{}n \"@context\":\\{ \"mindat\":\"https://mindat.org/\" ,\\textbackslash{}n \"schema\":\"https://schema.org/\" ,\\textbackslash{}n \"gsog\":\"https://w3id.org/gso/geology/\" \\},\"@graph\":{[}\\{ \\textbackslash{}n \"@type\":\"mindat:Geomaterials \" , \"@type\":\"schema:Dataset \" , \"@type\":\"gsog:Mineral\\_Material \" ,\\textbackslash{}n\" mindat:id \":\" 1282 \" ,\\textbackslash{}n\" identifier \":\" 1:1:1282:5 \" ,\\textbackslash{}n\" mindat:name \":\" Diamond \" ,\\textbackslash{}n\" mindat:ima\\_formula \":\" C \" \\}\\textbackslash{}n ,\\{ \\textbackslash{}n \"@type\":\"mindat:Geomaterials \" , \"@type\":\"schema:Dataset \" , \"@type\":\"gsog:Mineral\\_Material \" ,\\textbackslash{}n\" mindat:id \":\" 43792 \" ,\\textbackslash{}n\" identifier \":\" 1:1:43792:7 \" ,\\textbackslash{}n\" mindat:name \":\" Qingsongite \" ,\\textbackslash{}n\" mindat:ima\\_formula \":\" BN \" \\}\\textbackslash{}n ,\\{ \\textbackslash{}n \"@type\":\"mindat:Geomaterials \" , \"@type\":\"schema:Dataset \" , \"@type\":\"gsog:Mineral\\_Material \" ,\\textbackslash{}n\" mindat:id \":\" 52913 \" ,\\textbackslash{}n\" identifier \":\" 1:1:52913:0 \" ,\\textbackslash{}n\" mindat:name \":\" Uakitite \" ,\\textbackslash{}n\" mindat:ima\\_formula \":\" VN \" \\}\\textbackslash{}n {]} \\}'"
      ],
      "text/markdown": [
       "'{ \\n \"@context\":{ \"mindat\":\"https://mindat.org/\" ,\\n \"schema\":\"https://schema.org/\" ,\\n \"gsog\":\"https://w3id.org/gso/geology/\" },\"@graph\":[{ \\n \"@type\":\"mindat:Geomaterials \" , \"@type\":\"schema:Dataset \" , \"@type\":\"gsog:Mineral_Material \" ,\\n\" mindat:id \":\" 1282 \" ,\\n\" identifier \":\" 1:1:1282:5 \" ,\\n\" mindat:name \":\" Diamond \" ,\\n\" mindat:ima_formula \":\" C \" }\\n ,{ \\n \"@type\":\"mindat:Geomaterials \" , \"@type\":\"schema:Dataset \" , \"@type\":\"gsog:Mineral_Material \" ,\\n\" mindat:id \":\" 43792 \" ,\\n\" identifier \":\" 1:1:43792:7 \" ,\\n\" mindat:name \":\" Qingsongite \" ,\\n\" mindat:ima_formula \":\" BN \" }\\n ,{ \\n \"@type\":\"mindat:Geomaterials \" , \"@type\":\"schema:Dataset \" , \"@type\":\"gsog:Mineral_Material \" ,\\n\" mindat:id \":\" 52913 \" ,\\n\" identifier \":\" 1:1:52913:0 \" ,\\n\" mindat:name \":\" Uakitite \" ,\\n\" mindat:ima_formula \":\" VN \" }\\n ] }'"
      ],
      "text/plain": [
       "[1] \"{ \\n \\\"@context\\\":{ \\\"mindat\\\":\\\"https://mindat.org/\\\" ,\\n \\\"schema\\\":\\\"https://schema.org/\\\" ,\\n \\\"gsog\\\":\\\"https://w3id.org/gso/geology/\\\" },\\\"@graph\\\":[{ \\n \\\"@type\\\":\\\"mindat:Geomaterials \\\" , \\\"@type\\\":\\\"schema:Dataset \\\" , \\\"@type\\\":\\\"gsog:Mineral_Material \\\" ,\\n\\\" mindat:id \\\":\\\" 1282 \\\" ,\\n\\\" identifier \\\":\\\" 1:1:1282:5 \\\" ,\\n\\\" mindat:name \\\":\\\" Diamond \\\" ,\\n\\\" mindat:ima_formula \\\":\\\" C \\\" }\\n ,{ \\n \\\"@type\\\":\\\"mindat:Geomaterials \\\" , \\\"@type\\\":\\\"schema:Dataset \\\" , \\\"@type\\\":\\\"gsog:Mineral_Material \\\" ,\\n\\\" mindat:id \\\":\\\" 43792 \\\" ,\\n\\\" identifier \\\":\\\" 1:1:43792:7 \\\" ,\\n\\\" mindat:name \\\":\\\" Qingsongite \\\" ,\\n\\\" mindat:ima_formula \\\":\\\" BN \\\" }\\n ,{ \\n \\\"@type\\\":\\\"mindat:Geomaterials \\\" , \\\"@type\\\":\\\"schema:Dataset \\\" , \\\"@type\\\":\\\"gsog:Mineral_Material \\\" ,\\n\\\" mindat:id \\\":\\\" 52913 \\\" ,\\n\\\" identifier \\\":\\\" 1:1:52913:0 \\\" ,\\n\\\" mindat:name \\\":\\\" Uakitite \\\" ,\\n\\\" mindat:ima_formula \\\":\\\" VN \\\" }\\n ] }\""
      ]
     },
     "metadata": {},
     "output_type": "display_data"
    }
   ],
   "source": [
    "out"
   ]
  },
  {
   "cell_type": "code",
   "execution_count": 8,
   "id": "1bc0e8e9-4779-4861-af5d-0c89bb4f966b",
   "metadata": {},
   "outputs": [],
   "source": [
    "saveMindatDataAs(df,\"df_geomaterials.jsonld\")"
   ]
  },
  {
   "cell_type": "code",
   "execution_count": 9,
   "id": "9ba863ba-3f5a-405f-a158-4151b1c36172",
   "metadata": {},
   "outputs": [],
   "source": [
    "saveMindatDataAs(df,\"df_geomaterials.ttl\")"
   ]
  },
  {
   "cell_type": "code",
   "execution_count": 10,
   "id": "9e92fd85-4569-4c74-9ba4-ddf8e27550f8",
   "metadata": {},
   "outputs": [],
   "source": [
    "saveMindatDataAs(df,\"df_geomaterials.txt\")"
   ]
  },
  {
   "cell_type": "code",
   "execution_count": 11,
   "id": "993c7c7f-e1b0-47bd-afac-bcd28d0799ec",
   "metadata": {},
   "outputs": [],
   "source": [
    "saveMindatDataAs(df,\"df_geomaterials.csv\")"
   ]
  },
  {
   "cell_type": "code",
   "execution_count": null,
   "id": "2aff22c4-fd62-477e-9caa-d60f93ba9890",
   "metadata": {},
   "outputs": [],
   "source": []
  }
 ],
 "metadata": {
  "kernelspec": {
   "display_name": "R",
   "language": "R",
   "name": "ir"
  },
  "language_info": {
   "codemirror_mode": "r",
   "file_extension": ".r",
   "mimetype": "text/x-r-source",
   "name": "R",
   "pygments_lexer": "r",
   "version": "4.3.2"
  }
 },
 "nbformat": 4,
 "nbformat_minor": 5
}
